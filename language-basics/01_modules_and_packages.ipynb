{
 "cells": [
  {
   "cell_type": "markdown",
   "metadata": {},
   "source": [
    "This notebook is meant to be a simpler version of this [official doc](https://docs.modular.com/mojo/manual/get-started/packages.html)\n",
    "created during going over it"
   ]
  },
  {
   "cell_type": "markdown",
   "metadata": {},
   "source": [
    "# Modules and packages\n",
    "\n",
    "Mojo provides a packaging system that allows you to organize and compile code into importable files.\n",
    "\n",
    "## Mojo modules\n",
    "To understand Mojo packages, first we need to understand Mojo modules. A Mojo module is a single Mojo source file. \\\n",
    "For example, we can create a module to define a struct such as this one:\n",
    "> mymodule.mojo\n",
    "```Mojo \n",
    "struct MyPair:\n",
    "    var first: Int\n",
    "    var second: Int\n",
    "\n",
    "    fn __init__(inout self, first: Int, second: Int):\n",
    "        self.first = first\n",
    "        self.second = second\n",
    "\n",
    "    fn dump(self):\n",
    "        print(self.first, self.second)\n",
    "```"
   ]
  },
  {
   "cell_type": "code",
   "execution_count": null,
   "metadata": {},
   "outputs": [
    {
     "name": "stdout",
     "output_type": "stream",
     "text": [
      "2 4\n"
     ]
    }
   ],
   "source": [
    "from mymodule import MyPair\n",
    "\n",
    "let mine = MyPair(2, 4)\n",
    "mine.dump()"
   ]
  },
  {
   "cell_type": "markdown",
   "metadata": {},
   "source": [
    "Alternatively, we can import the whole module."
   ]
  },
  {
   "cell_type": "code",
   "execution_count": null,
   "metadata": {},
   "outputs": [
    {
     "name": "stdout",
     "output_type": "stream",
     "text": [
      "2 4\n"
     ]
    }
   ],
   "source": [
    "import mymodule\n",
    "\n",
    "let mine = mymodule.MyPair(2, 4)\n",
    "mine.dump()"
   ]
  },
  {
   "cell_type": "markdown",
   "metadata": {},
   "source": [
    "We can also create an alias for an imported module with `as`"
   ]
  },
  {
   "cell_type": "code",
   "execution_count": null,
   "metadata": {},
   "outputs": [
    {
     "name": "stdout",
     "output_type": "stream",
     "text": [
      "2 4\n"
     ]
    }
   ],
   "source": [
    "import mymodule as my\n",
    "\n",
    "let mine = my.MyPair(2, 4)\n",
    "mine.dump()"
   ]
  },
  {
   "cell_type": "markdown",
   "metadata": {},
   "source": [
    " \n",
    "> NOTE:  Currently, you can't import .mojo files as modules if they reside in other directories. That is, unless you treat the directory as a Mojo package.\n",
    "\n",
    "\n",
    "## Mojo packages\n",
    "\n",
    "A Mojo package is just a collection of Mojo modules in a directory that includes `__init__.mojo` file (Same as in Python). \\\n",
    "Optionally, we can also compile the package into a `.mojopkg` or `.📦` file that's easier to share.\n",
    "\n",
    "We can import a package and its modules either directly from source files or from compiled files. \\\n",
    "When importing from source files, the directory name works as the package name, whereas when importing from a compiled package, the filename is the package name.\n",
    "\n",
    "Consider a project with these files:\n",
    "\n",
    "```\n",
    "main.mojo\n",
    "test_package/\n",
    "    __init__.mojo\n",
    "    mymodule.mojo\n",
    "```\n",
    "\n",
    "`mymodule.mojo` is our module,  and `__init__.mojo` is empty.\n",
    "\n",
    "In this case, we can import `MyPair` like this:"
   ]
  },
  {
   "cell_type": "code",
   "execution_count": null,
   "metadata": {},
   "outputs": [
    {
     "name": "stdout",
     "output_type": "stream",
     "text": [
      "2 4\n"
     ]
    }
   ],
   "source": [
    "from test_package.mymodule import MyPair\n",
    "\n",
    "let mine = MyPair(2, 4)\n",
    "mine.dump()"
   ]
  },
  {
   "cell_type": "markdown",
   "metadata": {},
   "source": [
    "If we were to delete `__init__.mojo`, then Mojo doesn't recognize the directory as a package, and it cannot import `mymodule`. \\\n",
    "If we don't want the `test_package` source code in the same location as `main.mojo`. We can compile it into a package file like this:\n",
    "```bash \n",
    "mojo package test_package -o test_package.mojopkg \n",
    "```\n",
    "\n",
    "Then the `test_package` source can be moved somewhere else.\n",
    "\n",
    "Because we named the package file different from the directory, we need to fix the import statement, and it all works the same."
   ]
  },
  {
   "cell_type": "code",
   "execution_count": null,
   "metadata": {},
   "outputs": [
    {
     "name": "stdout",
     "output_type": "stream",
     "text": [
      "first:  2 second:  4\n"
     ]
    }
   ],
   "source": [
    "from test_package.mymodule import MyPair\n",
    "\n",
    "let mine = MyPair(2, 4)\n",
    "mine.dump()"
   ]
  },
  {
   "cell_type": "markdown",
   "metadata": {},
   "source": [
    "## The `__init__` file\n",
    "\n",
    "Currently, top-level code is not supported in `.mojo` files, so unlike Python, we can't write code in the `__init__.mojo` that executes upon import. We can, however, add structs and functions, which we can then import from the package name.\n",
    "\n",
    "Instead of adding APIs in the `__init__.mojo` file, we can import module members?, which has the same effect by making your APIs accessible from the package name, instead of requiring the `<package_name>.<module_name>` notation.\n",
    "\n",
    "```\n",
    "main.mojo\n",
    "my_package/\n",
    "    __init__.mojo\n",
    "    mymodule.mojo\n",
    "```\n"
   ]
  },
  {
   "cell_type": "code",
   "execution_count": null,
   "metadata": {},
   "outputs": [
    {
     "name": "stdout",
     "output_type": "stream",
     "text": [
      "First value:  3 Second value:  4\n"
     ]
    }
   ],
   "source": [
    "from my_package import MyPair\n",
    "\n",
    "let mine = MyPair(3, 4)\n",
    "mine.dump()"
   ]
  },
  {
   "cell_type": "markdown",
   "metadata": {},
   "source": [
    "That's why some members in the Mojo standard library can be imported from their package name, while others require the `<package_name>.<module_name>` notation. \\\n",
    "For example, the `functional` module resides in the `algorithm` package."
   ]
  },
  {
   "cell_type": "code",
   "execution_count": null,
   "metadata": {},
   "outputs": [],
   "source": [
    "from algorithm.functional import map"
   ]
  },
  {
   "cell_type": "markdown",
   "metadata": {},
   "source": [
    "However, the `algorithm/__init__.mojo` file also includes these lines:\n",
    "```mojo\n",
    "from .functional import *\n",
    "from .reduction import *\n",
    "```\n",
    "So we can actually import anything from `functional` or `reduction` simply by naming the package. We can drop the `functional` name from the import statement, and it also works."
   ]
  },
  {
   "cell_type": "code",
   "execution_count": null,
   "metadata": {},
   "outputs": [],
   "source": [
    "from algorithm import map"
   ]
  }
 ],
 "metadata": {
  "kernelspec": {
   "display_name": "Mojo",
   "language": "mojo",
   "name": "mojo-jupyter-kernel"
  }
 },
 "nbformat": 4,
 "nbformat_minor": 4
}
