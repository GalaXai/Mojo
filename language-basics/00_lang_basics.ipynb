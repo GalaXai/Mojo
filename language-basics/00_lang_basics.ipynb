{
 "cells": [
  {
   "cell_type": "markdown",
   "id": "4eb2d851-4bd8-41fb-88b7-56d9150fc8c0",
   "metadata": {},
   "source": [
    "This notebook is meant to be a simpler version of this [official doc](https://docs.modular.com/mojo/manual/basics/#syntax-and-semantics)\n",
    "created during going over the official doc"
   ]
  },
  {
   "cell_type": "markdown",
   "id": "8434462b-d37f-4cb0-a4c5-89c64f54d7c1",
   "metadata": {},
   "source": [
    "# Mojo\n",
    "is a designed to become a superset of Python, for example you can run top-level code just like in Python"
   ]
  },
  {
   "cell_type": "code",
   "execution_count": 2,
   "id": "ae0b33e5-7201-4da3-8763-fe6bc56cbb57",
   "metadata": {},
   "outputs": [
    {
     "name": "stdout",
     "output_type": "stream",
     "text": [
      "Hello Mojo!\n"
     ]
    }
   ],
   "source": [
    "print(\"Hello Mojo!\")"
   ]
  },
  {
   "cell_type": "markdown",
   "id": "a24ceb54-9dd1-4bb3-a6fe-8d7c5ffb2cb8",
   "metadata": {},
   "source": [
    "# Language basics\n",
    "- Mojo is a compiled language\n",
    "- Mojo code can be ahead-of-time (AOT) or just-in-time (JIT) compiled.\n",
    "\n",
    "Mojo programs require a main() function as the entry point to the program \\\n",
    "*Of course, if you’re building a Mojo module (an API library), not a Mojo program, then your file doesn’t need a main() function (because it will be imported by other programs that do have one).*"
   ]
  },
  {
   "cell_type": "code",
   "execution_count": 3,
   "id": "878c44c7-8751-43a7-82aa-e2b326c75580",
   "metadata": {},
   "outputs": [
    {
     "name": "stdout",
     "output_type": "stream",
     "text": [
      "2\n"
     ]
    }
   ],
   "source": [
    "fn main():\n",
    "    var x: Int = 1\n",
    "    x += 1\n",
    "    print(x)\n",
    "main()"
   ]
  },
  {
   "cell_type": "markdown",
   "id": "98bfbc0e-635a-41ad-9985-db3c04d2dc38",
   "metadata": {},
   "source": [
    "As u can see, we used `fn main()` instead of `def main()` that you're familiar from python. Both actually work in Mojo"
   ]
  },
  {
   "cell_type": "code",
   "execution_count": 4,
   "id": "99b55762-2522-47a2-ab10-0962dcb82192",
   "metadata": {},
   "outputs": [
    {
     "name": "stdout",
     "output_type": "stream",
     "text": [
      "2\n"
     ]
    }
   ],
   "source": [
    "def main():\n",
    "    x = 1\n",
    "    x += 1\n",
    "    print(x)\n",
    "main()"
   ]
  },
  {
   "cell_type": "markdown",
   "id": "069579ed-6614-4796-9e4c-1f6ec412bb34",
   "metadata": {},
   "source": [
    "### So why would you use `fn main()`? \n",
    "\n",
    "- `fn` is a ** Function ** \n",
    "- `fn` enforces strongly-type and memory-safe behaviors, while `def` provides more dynamic behaviors\n",
    "\n",
    "## Variables\n",
    "You can declare variables\n",
    "- `var` creates mutable value\n",
    "- `let` creates an immutable value\n",
    "\n",
    "If we were to change `var` to `let` in `fn main()`, we would get a compiler error.\n",
    "\n",
    "```Mojo\n",
    "fn main():\n",
    "    let x: Int = 1\n",
    "    x += 1\n",
    "    print(x)\n",
    "\n",
    "error: Expression [15]:3:5: expression must be mutable for in-place operator destination\n",
    "    x += 1\n",
    "    ^\n",
    "```\n",
    "\n",
    "The compiler returns an error because `let` variable is immutable, so we can't increment it.\n",
    "If we were to delete `var` completely, we would also get an error, because `fn` require explicit variable declarations.\n",
    "\n",
    "```Mojo\n",
    "fn main():\n",
    "    x = 1\n",
    "    x += 1\n",
    "    print(x)\n",
    "\n",
    "error: Expression [18]:2:5: use of unknown declaration 'x', 'fn' declarations require explicit variable declarations\n",
    "    x = 1\n",
    "    ^\n",
    "```\n",
    "\n",
    "Finally, notice that the `x` variable has an explicit `Int` type. Declaring the type is **not required** for variables in `fn`."
   ]
  },
  {
   "cell_type": "code",
   "execution_count": 5,
   "id": "c8d70744-4a02-4298-898b-c6bb20051524",
   "metadata": {},
   "outputs": [
    {
     "name": "stdout",
     "output_type": "stream",
     "text": [
      "3\n"
     ]
    }
   ],
   "source": [
    "fn do_math():\n",
    "    let x: Int = 1\n",
    "    let y = 2\n",
    "    print(x + y)\n",
    "\n",
    "do_math()"
   ]
  },
  {
   "cell_type": "markdown",
   "id": "faa515a2-bb72-4762-bc12-a9d3d3c83f48",
   "metadata": {},
   "source": [
    "## Function arguments and returns\n",
    "\n",
    "Although types aren't required for variables declared in the function body, they are required for arguments and returns values for an `fn` function.\n",
    "\n",
    "As seen in the below example:"
   ]
  },
  {
   "cell_type": "code",
   "execution_count": 6,
   "id": "202cc1c3-b391-4c75-a7df-7bddad579aec",
   "metadata": {},
   "outputs": [],
   "source": [
    "fn add(x: Int, y: Int) -> Int:\n",
    "    return x + y\n",
    "\n",
    "add(3,4) # no __rep__? might be added in later version."
   ]
  },
  {
   "cell_type": "markdown",
   "id": "d5389bfe-eb01-44ec-8a6e-a1835cbaf99d",
   "metadata": {},
   "source": [
    "In python I could do \n",
    "```python\n",
    "def add(x,y):\n",
    "    return x+y\n",
    "add(3,4)\n",
    "```\n",
    "jupyter output:    7"
   ]
  },
  {
   "cell_type": "code",
   "execution_count": 7,
   "id": "0344cd27-57c5-4786-839d-3c318b00a7b7",
   "metadata": {},
   "outputs": [
    {
     "name": "stdout",
     "output_type": "stream",
     "text": [
      "7\n"
     ]
    }
   ],
   "source": [
    "print(add(3,4))"
   ]
  },
  {
   "cell_type": "markdown",
   "id": "26bb31bf-58d6-4e9c-b129-ef0732c28199",
   "metadata": {},
   "source": [
    "## Optional arguments and keyword arguments\n",
    "\n",
    "As in python, u can specify default values to the arguments\n",
    "As seen in the below example:"
   ]
  },
  {
   "cell_type": "code",
   "execution_count": 8,
   "id": "ac3c3f54-2ae1-4583-9836-e528075c0d32",
   "metadata": {},
   "outputs": [
    {
     "name": "stdout",
     "output_type": "stream",
     "text": [
      "9\n",
      "8\n"
     ]
    }
   ],
   "source": [
    "fn pow(base: Int, exp: Int = 2) -> Int:\n",
    "    return base ** exp\n",
    "\n",
    "# Using default value for `exp`\n",
    "print(pow(3))\n",
    "\n",
    "# Using keyword argument names (with order reversed)\n",
    "print(pow(exp=3,base=2))"
   ]
  },
  {
   "cell_type": "markdown",
   "id": "db42ee3b-4522-4747-b1a6-56071ab696b5",
   "metadata": {},
   "source": [
    "**Note**: Mojo currently includes only partial support for keyword arguments, so some features such as keyword-only arguments and variadic keyword arguments (e.g. `**kwargs`) are not supported yet, as of `21.09.2023`."
   ]
  },
  {
   "cell_type": "markdown",
   "id": "7c2c2bd9-d350-4db6-990f-67b0bd3e4808",
   "metadata": {},
   "source": [
    "## Argument mutability and ownership\n",
    "\n",
    "Mojo supports full value semantics and enforces memory safety with a robust value ownership model.\n",
    "\n",
    "Bellow function, `add()` doesn't modify `x` or `y`, it only reads the values. In fact, as written, the function *cannot* modify them because `fn` arguments are **immutable references**, by default.\n",
    "\n",
    "It is called \"borrowing\" and although it's the default for `fn` function, you can make it explicit with `borrowed` declaration."
   ]
  },
  {
   "cell_type": "code",
   "execution_count": 9,
   "id": "fc1c6e8d-6a0c-4353-bdce-d8804918232a",
   "metadata": {},
   "outputs": [
    {
     "name": "stdout",
     "output_type": "stream",
     "text": [
      "3\n"
     ]
    }
   ],
   "source": [
    "fn add(borrowed x: Int, borrowed y: Int) -> Int:\n",
    "    return x+y\n",
    "\n",
    "var x = 1\n",
    "var y = 2\n",
    "print(add(x, y))"
   ]
  },
  {
   "cell_type": "markdown",
   "id": "24166cf2-ff48-4ed4-855f-149ef92f48c6",
   "metadata": {},
   "source": [
    "NOTE:\n",
    "Formatting such as `f\"strings\"` `.2f` are not supported as of `21.09.2023`"
   ]
  },
  {
   "cell_type": "markdown",
   "id": "2b28f537-c4d9-45d7-b8fd-bbd00766f043",
   "metadata": {},
   "source": [
    "If we want the arguments to be mutable, we need to declare the argument convention as `inout`. This means that changes to the variables **inside** a function are visible **outside** the function.\n"
   ]
  },
  {
   "cell_type": "code",
   "execution_count": 10,
   "id": "06a5bf27-be73-4e9d-93d5-0da1ef64ff13",
   "metadata": {},
   "outputs": [
    {
     "name": "stdout",
     "output_type": "stream",
     "text": [
      "2 3 5\n"
     ]
    }
   ],
   "source": [
    "fn add_inout(inout x:Int, inout y: Int) -> Int:\n",
    "    x += 1\n",
    "    y += 1\n",
    "    return x + y\n",
    "\n",
    "var x = 1\n",
    "var y = 2\n",
    "z = add_inout(x,y)\n",
    "print(x,y,z)"
   ]
  },
  {
   "cell_type": "markdown",
   "id": "627ee1e3-47d2-4389-8014-90a739194eb2",
   "metadata": {},
   "source": [
    "Another way is to declare the argument as `owned`, provides full ownership of the value (it's mutable and guaranteed unique)."
   ]
  },
  {
   "cell_type": "code",
   "execution_count": 11,
   "id": "e1425343-0a5c-47e2-95e4-a9dc0a33e717",
   "metadata": {},
   "outputs": [
    {
     "name": "stdout",
     "output_type": "stream",
     "text": [
      "mojo\n",
      "mojo🔥\n"
     ]
    }
   ],
   "source": [
    "fn set_fire(owned text: String) -> String:\n",
    "    text += \"🔥\"\n",
    "    return text\n",
    "\n",
    "fn mojo():\n",
    "    let a: String = \"mojo\"\n",
    "    let b = set_fire(a)\n",
    "    print(a)\n",
    "    print(b)\n",
    "\n",
    "mojo()"
   ]
  },
  {
   "cell_type": "markdown",
   "id": "4f774228-a132-48af-9ce9-9c3e28e8c689",
   "metadata": {},
   "source": [
    "In this case, Mojo makes a copy of `a` string and passes it as the `text` argument. The original `a` string is still alive and well.\n",
    "\n",
    "However, if you don't want to make a copy, then you can add the `^` \"transfer\" operator when you pass `a` to the function. \\\n",
    "The transfer operator effectively destroys the local variable, any attempt to call upon it later causes a compiler error."
   ]
  },
  {
   "cell_type": "code",
   "execution_count": 12,
   "id": "2567ecfc-25fd-4bf3-a78c-2a963dd54a83",
   "metadata": {},
   "outputs": [
    {
     "name": "stdout",
     "output_type": "stream",
     "text": [
      "mojo🔥\n"
     ]
    }
   ],
   "source": [
    "fn mojo():\n",
    "    let a: String = \"mojo\"\n",
    "    let b = set_fire(a^)\n",
    "    # print(a) will result in a error    \n",
    "    print(b)\n",
    "mojo()"
   ]
  },
  {
   "cell_type": "markdown",
   "id": "ed877035",
   "metadata": {},
   "source": [
    "# Structures\n",
    "\n",
    "A `struct` in Mojo is similar to a `class` in Python. However, Mojo structs are completely static -- they are bound at compile-time, so they do not allow dynamic dispatch or any runtime changes to the structure.\n",
    "\n",
    "NOTE:\n",
    "Mojo will also support classes in the future\n",
    "\n",
    "Example of basic struct:"
   ]
  },
  {
   "cell_type": "code",
   "execution_count": 13,
   "id": "54ad9283",
   "metadata": {},
   "outputs": [
    {
     "name": "stdout",
     "output_type": "stream",
     "text": [
      "2 4\n"
     ]
    }
   ],
   "source": [
    "struct MyPair:\n",
    "    var first: Int\n",
    "    var second: Int\n",
    "\n",
    "    fn __init__(inout self,first: Int, second: Int):\n",
    "        self.first  = first\n",
    "        self.second =  second\n",
    "\n",
    "    fn dump(self):\n",
    "        print(self.first, self.second)\n",
    "\n",
    "\n",
    "let mine = MyPair(2, 4)\n",
    "mine.dump()"
   ]
  },
  {
   "cell_type": "markdown",
   "id": "95be4b4a",
   "metadata": {},
   "source": [
    "## Python integration\n",
    "\n",
    "Although Mojo is still a work in progress and is not a full superset of Python yet, Mojo has a built-in mechanism to import Python modules as-is. \\\n",
    "For example, here's how you can import and use NumPy."
   ]
  },
  {
   "cell_type": "code",
   "execution_count": 14,
   "id": "610069a0",
   "metadata": {},
   "outputs": [
    {
     "name": "stdout",
     "output_type": "stream",
     "text": [
      "[[ 0  1  2  3  4]\n",
      " [ 5  6  7  8  9]\n",
      " [10 11 12 13 14]]\n",
      "(3, 5)\n"
     ]
    }
   ],
   "source": [
    "from python import Python\n",
    "\n",
    "let np = Python.import_module(\"numpy\")\n",
    "\n",
    "ar = np.arange(15).reshape(3,5)\n",
    "print(ar)\n",
    "print(ar.shape)"
   ]
  }
 ],
 "metadata": {
  "kernelspec": {
   "display_name": "Mojo",
   "language": "mojo",
   "name": "mojo-jupyter-kernel"
  },
  "language_info": {
   "codemirror_mode": {
    "name": "mojo"
   },
   "file_extension": ".mojo",
   "mimetype": "text/x-mojo",
   "name": "mojo"
  }
 },
 "nbformat": 4,
 "nbformat_minor": 5
}
