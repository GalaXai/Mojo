{
 "cells": [
  {
   "cell_type": "markdown",
   "metadata": {},
   "source": [
    "## Mojo compiler\n",
    "You can run Mojo program from a terminal, just like you can with Python.\n",
    "just type:\n",
    " > mojo `filename.mojo`"
   ]
  },
  {
   "cell_type": "markdown",
   "metadata": {},
   "source": [
    "## Basic systems programming extensions\n",
    "\n",
    "Python's support for systems programming is mainly delegated to C, and we want to a single system that is great in that world. \\\n",
    "As such, mojo implants those components and features.\n",
    "\n",
    "### `let` and `var` declarations\n",
    "\n",
    "- System programmers often want to declare that a value is immutable for type-safety and performance\n",
    "- They may want to get an error if they mistype a variable name in an assignment.\n",
    "\n",
    "Mojo provides scoped runtime value declaration:\n",
    "- `let` is immutable\n",
    "- `var` is mutable"
   ]
  },
  {
   "cell_type": "code",
   "execution_count": null,
   "metadata": {},
   "outputs": [
    {
     "name": "stdout",
     "output_type": "stream",
     "text": [
      "3\n"
     ]
    }
   ],
   "source": [
    "def your_function(a, b):\n",
    "    let c = a\n",
    "    # Uncomment to see an error:\n",
    "    # c = b  # error: c is immutable\n",
    "\n",
    "    if c != b:\n",
    "        let d = b\n",
    "        print(d)\n",
    "\n",
    "your_function(2, 3)"
   ]
  },
  {
   "cell_type": "markdown",
   "metadata": {},
   "source": [
    "`let` and `var` declarations support type specifiers as well as patterns, and late initialization:"
   ]
  },
  {
   "cell_type": "code",
   "execution_count": null,
   "metadata": {},
   "outputs": [
    {
     "name": "stdout",
     "output_type": "stream",
     "text": [
      "42 17.0 1.0\n"
     ]
    }
   ],
   "source": [
    "def your_function():\n",
    "    let x: Int = 42\n",
    "    let y: Float64 = 17.0\n",
    "\n",
    "    let z: Float32\n",
    "    if x != 0:\n",
    "        z = 1.0\n",
    "    else:\n",
    "        z = foo()\n",
    "    print(x,y,z)\n",
    "\n",
    "def foo() -> Float32:\n",
    "    return 3.14\n",
    "\n",
    "your_function()"
   ]
  },
  {
   "cell_type": "markdown",
   "metadata": {},
   "source": [
    "Note that `let` and `var` are optional when in a def function, but they are required for all variables in an `fn` function\n",
    "\n",
    "Also beware that when using Mojo in a REPL environment, top-level variables are treaded like variables in a `def`, so they allow implicit value type declarations.\n",
    "\n",
    "### `struct` types\n",
    "\n",
    "An important feature of modern systems programming languages is the ability to build high-level and safe abstractions on top of these complex, low-level operations without any performance loss. In Mojo, this is provided by the `struct` type.\n",
    "\n",
    "A `struct` in Mojo is similar to Python `class`. Their differences are as follows:\n",
    "\n",
    "- Python classes are dynamic: they allow for dynamic dispatch, monkey-patching, and dynamically binding instance properties at runtime.\n",
    "- Mojo struct are static: they are bound at compile-time. Structs allow you to trade flexibility for performance while being safe and easy to use.\n",
    "\n",
    "Here is a simple `struct`:"
   ]
  },
  {
   "cell_type": "code",
   "execution_count": null,
   "metadata": {},
   "outputs": [],
   "source": [
    "struct MyPair:\n",
    "    var first: Int\n",
    "    var second: Int\n",
    "\n",
    "    # We use 'fn' instead of 'def' here - we'll explain that soon\n",
    "    fn __init__(inout self, first: Int, second: Int):\n",
    "        self.first = first\n",
    "        self.second = second\n",
    "\n",
    "    # __lt__  -> less than `<`\n",
    "    fn __lt__(self, rhs: MyPair) -> Bool:\n",
    "        return self.first < rhs.first or\n",
    "              (self.first == rhs.first and\n",
    "               self.second < rhs.second)"
   ]
  },
  {
   "cell_type": "markdown",
   "metadata": {},
   "source": [
    "Syntactically, the biggest difference compareed to a Python `class` is that all instances of properties in a `struct` **must** be explicitly declared with a `var` or `let` declaration.\n",
    "\n",
    "In Mojo, the structure and contents of a `struct` are set in advance and can't be changed while the program is running. \\\n",
    "Unlike in Python, where you can add, remove, or change attributes of an object on the fly. Mojo doesn't allow that for structs.\\\n",
    "This means you can't use `del` to remove methods or change its value in the middle of running the program.\n",
    "\n",
    "However, the static nature of `struct`, helps Mojo run your code faster. \\\n",
    "Mojo's structs also work really well with features you might already know from Python, like operator overloading. \\\n",
    "Furthermore, all the \"standard types\" are made using structs.\n",
    "\n",
    "\n",
    "## `Int` vs `int`\n",
    "In Mojo, you might notice the use of `Int`, which is different from Python's `int`.\n",
    "In Python, the `int` type can handle huge number and has some extra features, like checking if two number are the same object.\n",
    "But this comes with some extra baggage that can slow thing down.\n",
    "\n",
    "In Mojo, the `Int` is different. It's designed to be simple, fast, and tuned for your computer's hardware to handle quickly.\n",
    "\n",
    "- Allows programmers who need to work closely with computer hardware a transparent and reliable way to interact with hardware. We don't want to rely on fancy tricks (like JIT compilers) to make things faster.\n",
    "- Allows Mojo to work well with Python without causing any issues. By using a different name (`Int` instead of `int`), we can keep both types in Mojo without changing how Python's ints work.\n",
    "\n",
    "\n",
    "As a bonus, `Int` follows the same naming style as other custom data types you might create in Mojo. Additionally, `Int` is `struct` that's included in Mojo's standard set of tools."
   ]
  },
  {
   "cell_type": "markdown",
   "metadata": {},
   "source": [
    "## Strong type checking\n",
    "\n",
    "Even though you can still use flexible types like in Python, Mojo lets you use strict type checking. Type-checking can make your code more predictable, manageable, and secure.\n",
    "\n",
    "One of the ways to employ type checking is to use `struct` types. \\\n",
    "For example:"
   ]
  },
  {
   "cell_type": "code",
   "execution_count": null,
   "metadata": {},
   "outputs": [
    {
     "name": "stdout",
     "output_type": "stream",
     "text": [
      "True\n"
     ]
    }
   ],
   "source": [
    "def pair_test() -> Bool:\n",
    "    let p = MyPair(1, 2)\n",
    "    let b = MyPair(3, 4)\n",
    "    # Uncomment to see an error:\n",
    "    #return p < 4 # gives a compile time error\n",
    "    return p < b\n",
    "\n",
    "print(pair_test())"
   ]
  },
  {
   "cell_type": "markdown",
   "metadata": {},
   "source": [
    "If you uncomment the first return statement and run it, you'll get a compile-time error telling you that `4` cannot be converted to a `MyPair`. \\\n",
    "Type checking isn't the only use-case for strong types. \\\n",
    "Since we know the types are accurate, we can optimize the code based on those types, pass values in register, and be as efficient as `C` for argument passing and other low-level details.\n",
    "\n",
    "\n",
    "## Overloading functions and methods\n",
    "\n",
    "```python\n",
    "\n",
    "#TBD\n",
    "```"
   ]
  }
 ],
 "metadata": {
  "kernelspec": {
   "display_name": "Mojo",
   "language": "mojo",
   "name": "mojo-jupyter-kernel"
  }
 },
 "nbformat": 4,
 "nbformat_minor": 4
}
